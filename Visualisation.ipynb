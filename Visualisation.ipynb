{
 "cells": [
  {
   "cell_type": "code",
   "execution_count": 1,
   "id": "cebe9af9-9861-4edb-a515-f81057846b74",
   "metadata": {},
   "outputs": [],
   "source": [
    "import mne\n",
    "import pathlib\n",
    "import matplotlib"
   ]
  },
  {
   "cell_type": "code",
   "execution_count": 3,
   "id": "d3900796-af1c-4803-9a0c-db9e89a9f1f1",
   "metadata": {},
   "outputs": [],
   "source": [
    "matplotlib.use('Qt5Agg')\n"
   ]
  },
  {
   "cell_type": "code",
   "execution_count": 4,
   "id": "ea20dbd4-236e-4abd-bbe6-163eaf3cec8f",
   "metadata": {},
   "outputs": [],
   "source": [
    "test_data=pathlib.Path('sub-032301-Not Addicted-raw')\n"
   ]
  },
  {
   "cell_type": "code",
   "execution_count": 5,
   "id": "38faef65-683e-4153-b9be-5c2fa720670a",
   "metadata": {},
   "outputs": [
    {
     "name": "stdout",
     "output_type": "stream",
     "text": [
      "Extracting parameters from sub-032301-Not Addicted-raw\\RSEEG\\sub-010002.vhdr...\n",
      "Setting channel info structure...\n"
     ]
    },
    {
     "data": {
      "text/html": [
       "\n",
       "\n",
       "<table class=\"table table-hover table-striped table-sm table-responsive small\">\n",
       "    <tr>\n",
       "        <th>Measurement date</th>\n",
       "        <td>November 11, 2013  13:47:40 GMT</td>\n",
       "        \n",
       "    </tr>\n",
       "    <tr>\n",
       "        <th>Experimenter</th>\n",
       "<td>Unknown</td>\n",
       "    </tr>\n",
       "        <th>Participant</th>\n",
       "<td>Unknown</td>\n",
       "    </tr>\n",
       "    <tr>\n",
       "        <th>Digitized points</th>\n",
       "        <td>Not available</td>\n",
       "    </tr>\n",
       "    <tr>\n",
       "        <th>Good channels</th>\n",
       "        <td>62 EEG</td>\n",
       "    </tr>\n",
       "    <tr>\n",
       "        <th>Bad channels</th>\n",
       "        <td>None</td>\n",
       "    </tr>\n",
       "    <tr>\n",
       "        <th>EOG channels</th>\n",
       "        <td>Not available</td>\n",
       "    </tr>\n",
       "    <tr>\n",
       "        <th>ECG channels</th>\n",
       "        <td>Not available</td>\n",
       "    <tr>\n",
       "        <th>Sampling frequency</th>\n",
       "        <td>2500.00 Hz</td>\n",
       "    </tr>\n",
       "    <tr>\n",
       "        <th>Highpass</th>\n",
       "        <td>0.02 Hz</td>\n",
       "    </tr>\n",
       "    <tr>\n",
       "        <th>Lowpass</th>\n",
       "        <td>1000.00 Hz</td>\n",
       "    </tr>\n",
       "\n",
       "    <tr>\n",
       "        <th>Filenames</th>\n",
       "        <td>sub-010002.eeg</td>\n",
       "    </tr>\n",
       "    <tr>\n",
       "        <th>Duration</th>\n",
       "        <td>00:17:01 (HH:MM:SS)</td>\n",
       "    </tr>\n",
       "</table>\n"
      ],
      "text/plain": [
       "<RawBrainVision | sub-010002.eeg, 62 x 2555000 (1022.0 s), ~66 kB, data not loaded>"
      ]
     },
     "execution_count": 5,
     "metadata": {},
     "output_type": "execute_result"
    }
   ],
   "source": [
    "raw_path=test_data/'RSEEG'/'sub-010002.vhdr'\n",
    "raw = mne.io.read_raw_brainvision(raw_path)\n",
    "raw\n"
   ]
  },
  {
   "cell_type": "code",
   "execution_count": null,
   "id": "ed06e1e8-d927-4347-adba-9d0560bebdc6",
   "metadata": {},
   "outputs": [],
   "source": [
    "raw.plot()"
   ]
  },
  {
   "cell_type": "markdown",
   "id": "e4df9a37-80c7-49c0-8109-cd0fa224d902",
   "metadata": {},
   "source": [
    "Not Addicted non processed file of sub - 0323301\n",
    "Raw files are above this and below this is vhdr file\n",
    "\n",
    "\n"
   ]
  },
  {
   "cell_type": "code",
   "execution_count": 23,
   "id": "cc7d6515-d3ee-449a-8f9f-eb101ef710a4",
   "metadata": {},
   "outputs": [],
   "source": [
    "test_data=pathlib.Path('sub-032345-Addicted-raw')"
   ]
  },
  {
   "cell_type": "code",
   "execution_count": 25,
   "id": "69ef5853-10fe-4f7c-9017-52551e097331",
   "metadata": {},
   "outputs": [
    {
     "name": "stdout",
     "output_type": "stream",
     "text": [
      "Extracting parameters from sub-032345-Addicted-raw\\sub-032345\\RSEEG\\sub-010053.vhdr...\n",
      "Setting channel info structure...\n"
     ]
    },
    {
     "data": {
      "text/html": [
       "\n",
       "\n",
       "<table class=\"table table-hover table-striped table-sm table-responsive small\">\n",
       "    <tr>\n",
       "        <th>Measurement date</th>\n",
       "        <td>April 07, 2014  14:33:28 GMT</td>\n",
       "        \n",
       "    </tr>\n",
       "    <tr>\n",
       "        <th>Experimenter</th>\n",
       "<td>Unknown</td>\n",
       "    </tr>\n",
       "        <th>Participant</th>\n",
       "<td>Unknown</td>\n",
       "    </tr>\n",
       "    <tr>\n",
       "        <th>Digitized points</th>\n",
       "        <td>Not available</td>\n",
       "    </tr>\n",
       "    <tr>\n",
       "        <th>Good channels</th>\n",
       "        <td>62 EEG</td>\n",
       "    </tr>\n",
       "    <tr>\n",
       "        <th>Bad channels</th>\n",
       "        <td>None</td>\n",
       "    </tr>\n",
       "    <tr>\n",
       "        <th>EOG channels</th>\n",
       "        <td>Not available</td>\n",
       "    </tr>\n",
       "    <tr>\n",
       "        <th>ECG channels</th>\n",
       "        <td>Not available</td>\n",
       "    <tr>\n",
       "        <th>Sampling frequency</th>\n",
       "        <td>2500.00 Hz</td>\n",
       "    </tr>\n",
       "    <tr>\n",
       "        <th>Highpass</th>\n",
       "        <td>0.02 Hz</td>\n",
       "    </tr>\n",
       "    <tr>\n",
       "        <th>Lowpass</th>\n",
       "        <td>1000.00 Hz</td>\n",
       "    </tr>\n",
       "\n",
       "    <tr>\n",
       "        <th>Filenames</th>\n",
       "        <td>sub-010053.eeg</td>\n",
       "    </tr>\n",
       "    <tr>\n",
       "        <th>Duration</th>\n",
       "        <td>00:17:01 (HH:MM:SS)</td>\n",
       "    </tr>\n",
       "</table>\n"
      ],
      "text/plain": [
       "<RawBrainVision | sub-010053.eeg, 62 x 2554700 (1021.9 s), ~66 kB, data not loaded>"
      ]
     },
     "execution_count": 25,
     "metadata": {},
     "output_type": "execute_result"
    }
   ],
   "source": [
    "raw_path=test_data/'sub-032345'/'RSEEG'/'sub-010053.vhdr'\n",
    "raw = mne.io.read_raw_brainvision(raw_path)\n",
    "raw"
   ]
  },
  {
   "cell_type": "code",
   "execution_count": 26,
   "id": "2a0331eb-69d1-4250-a172-0f34229ab01c",
   "metadata": {},
   "outputs": [
    {
     "data": {
      "text/plain": [
       "<MNEBrowseFigure size 800x800 with 4 Axes>"
      ]
     },
     "execution_count": 26,
     "metadata": {},
     "output_type": "execute_result"
    },
    {
     "name": "stdout",
     "output_type": "stream",
     "text": [
      "Channels marked as bad: none\n"
     ]
    }
   ],
   "source": [
    "raw.plot()"
   ]
  },
  {
   "cell_type": "code",
   "execution_count": 31,
   "id": "d57d7913-3f41-428d-88e3-d745b28347e3",
   "metadata": {},
   "outputs": [
    {
     "ename": "FileNotFoundError",
     "evalue": "input_fname does not exist: C:\\Users\\josep\\sub-032345-Addicted-raw\\sub-010002.set",
     "output_type": "error",
     "traceback": [
      "\u001b[1;31m---------------------------------------------------------------------------\u001b[0m",
      "\u001b[1;31mFileNotFoundError\u001b[0m                         Traceback (most recent call last)",
      "\u001b[1;32m~\\AppData\\Local\\Temp/ipykernel_16128/919563230.py\u001b[0m in \u001b[0;36m<module>\u001b[1;34m\u001b[0m\n\u001b[0;32m      1\u001b[0m \u001b[0mraw_path\u001b[0m\u001b[1;33m=\u001b[0m\u001b[0mtest_data\u001b[0m\u001b[1;33m/\u001b[0m\u001b[1;34m'sub-010002.set'\u001b[0m\u001b[1;33m\u001b[0m\u001b[1;33m\u001b[0m\u001b[0m\n\u001b[1;32m----> 2\u001b[1;33m \u001b[0mraw\u001b[0m \u001b[1;33m=\u001b[0m \u001b[0mmne\u001b[0m\u001b[1;33m.\u001b[0m\u001b[0mio\u001b[0m\u001b[1;33m.\u001b[0m\u001b[0mread_raw_eeglab\u001b[0m\u001b[1;33m(\u001b[0m\u001b[0mraw_path\u001b[0m\u001b[1;33m)\u001b[0m\u001b[1;33m\u001b[0m\u001b[1;33m\u001b[0m\u001b[0m\n\u001b[0m\u001b[0;32m      3\u001b[0m \u001b[0mraw\u001b[0m\u001b[1;33m\u001b[0m\u001b[1;33m\u001b[0m\u001b[0m\n",
      "\u001b[1;32m~\\anaconda3\\envs\\environment\\lib\\site-packages\\mne\\io\\eeglab\\eeglab.py\u001b[0m in \u001b[0;36mread_raw_eeglab\u001b[1;34m(input_fname, eog, preload, uint16_codec, verbose)\u001b[0m\n\u001b[0;32m    245\u001b[0m     \u001b[1;33m.\u001b[0m\u001b[1;33m.\u001b[0m \u001b[0mversionadded\u001b[0m\u001b[1;33m:\u001b[0m\u001b[1;33m:\u001b[0m \u001b[1;36m0.11\u001b[0m\u001b[1;36m.0\u001b[0m\u001b[1;33m\u001b[0m\u001b[1;33m\u001b[0m\u001b[0m\n\u001b[0;32m    246\u001b[0m     \"\"\"\n\u001b[1;32m--> 247\u001b[1;33m     return RawEEGLAB(input_fname=input_fname, preload=preload,\n\u001b[0m\u001b[0;32m    248\u001b[0m                      eog=eog, verbose=verbose, uint16_codec=uint16_codec)\n\u001b[0;32m    249\u001b[0m \u001b[1;33m\u001b[0m\u001b[0m\n",
      "\u001b[1;32m<decorator-gen-261>\u001b[0m in \u001b[0;36m__init__\u001b[1;34m(self, input_fname, eog, preload, uint16_codec, verbose)\u001b[0m\n",
      "\u001b[1;32m~\\anaconda3\\envs\\environment\\lib\\site-packages\\mne\\io\\eeglab\\eeglab.py\u001b[0m in \u001b[0;36m__init__\u001b[1;34m(self, input_fname, eog, preload, uint16_codec, verbose)\u001b[0m\n\u001b[0;32m    343\u001b[0m     def __init__(self, input_fname, eog=(),\n\u001b[0;32m    344\u001b[0m                  preload=False, uint16_codec=None, verbose=None):  # noqa: D102\n\u001b[1;32m--> 345\u001b[1;33m         \u001b[0minput_fname\u001b[0m \u001b[1;33m=\u001b[0m \u001b[0m_check_fname\u001b[0m\u001b[1;33m(\u001b[0m\u001b[0minput_fname\u001b[0m\u001b[1;33m,\u001b[0m \u001b[1;34m'read'\u001b[0m\u001b[1;33m,\u001b[0m \u001b[1;32mTrue\u001b[0m\u001b[1;33m,\u001b[0m \u001b[1;34m'input_fname'\u001b[0m\u001b[1;33m)\u001b[0m\u001b[1;33m\u001b[0m\u001b[1;33m\u001b[0m\u001b[0m\n\u001b[0m\u001b[0;32m    346\u001b[0m         \u001b[0meeg\u001b[0m \u001b[1;33m=\u001b[0m \u001b[0m_check_load_mat\u001b[0m\u001b[1;33m(\u001b[0m\u001b[0minput_fname\u001b[0m\u001b[1;33m,\u001b[0m \u001b[0muint16_codec\u001b[0m\u001b[1;33m)\u001b[0m\u001b[1;33m\u001b[0m\u001b[1;33m\u001b[0m\u001b[0m\n\u001b[0;32m    347\u001b[0m         \u001b[1;32mif\u001b[0m \u001b[0meeg\u001b[0m\u001b[1;33m.\u001b[0m\u001b[0mtrials\u001b[0m \u001b[1;33m!=\u001b[0m \u001b[1;36m1\u001b[0m\u001b[1;33m:\u001b[0m\u001b[1;33m\u001b[0m\u001b[1;33m\u001b[0m\u001b[0m\n",
      "\u001b[1;32m~\\anaconda3\\envs\\environment\\lib\\site-packages\\mne\\utils\\check.py\u001b[0m in \u001b[0;36m_check_fname\u001b[1;34m(fname, overwrite, must_exist, name, need_dir)\u001b[0m\n\u001b[0;32m    184\u001b[0m                     f'{name} does not have read permissions: {fname}')\n\u001b[0;32m    185\u001b[0m     \u001b[1;32melif\u001b[0m \u001b[0mmust_exist\u001b[0m\u001b[1;33m:\u001b[0m\u001b[1;33m\u001b[0m\u001b[1;33m\u001b[0m\u001b[0m\n\u001b[1;32m--> 186\u001b[1;33m         \u001b[1;32mraise\u001b[0m \u001b[0mFileNotFoundError\u001b[0m\u001b[1;33m(\u001b[0m\u001b[1;34mf'{name} does not exist: {fname}'\u001b[0m\u001b[1;33m)\u001b[0m\u001b[1;33m\u001b[0m\u001b[1;33m\u001b[0m\u001b[0m\n\u001b[0m\u001b[0;32m    187\u001b[0m \u001b[1;33m\u001b[0m\u001b[0m\n\u001b[0;32m    188\u001b[0m     \u001b[1;32mreturn\u001b[0m \u001b[0mfname\u001b[0m\u001b[1;33m\u001b[0m\u001b[1;33m\u001b[0m\u001b[0m\n",
      "\u001b[1;31mFileNotFoundError\u001b[0m: input_fname does not exist: C:\\Users\\josep\\sub-032345-Addicted-raw\\sub-010002.set"
     ]
    }
   ],
   "source": [
    "raw_path=test_data/'sub-010002.set'\n",
    "raw = mne.io.read_raw_eeglab(raw_path)\n",
    "raw"
   ]
  },
  {
   "cell_type": "code",
   "execution_count": null,
   "id": "f76c31c2-f402-48b9-ade7-afd4f2f1f75a",
   "metadata": {},
   "outputs": [],
   "source": []
  },
  {
   "cell_type": "code",
   "execution_count": null,
   "id": "81568c19-d3ee-4315-8e26-95f73da0c0bc",
   "metadata": {},
   "outputs": [],
   "source": []
  }
 ],
 "metadata": {
  "kernelspec": {
   "display_name": "Python 3 (ipykernel)",
   "language": "python",
   "name": "python3"
  },
  "language_info": {
   "codemirror_mode": {
    "name": "ipython",
    "version": 3
   },
   "file_extension": ".py",
   "mimetype": "text/x-python",
   "name": "python",
   "nbconvert_exporter": "python",
   "pygments_lexer": "ipython3",
   "version": "3.9.9"
  }
 },
 "nbformat": 4,
 "nbformat_minor": 5
}
